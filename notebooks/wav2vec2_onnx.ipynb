{
  "nbformat": 4,
  "nbformat_minor": 0,
  "metadata": {
    "orig_nbformat": 4,
    "language_info": {
      "name": "python",
      "version": "3.8.10",
      "mimetype": "text/x-python",
      "codemirror_mode": {
        "name": "ipython",
        "version": 3
      },
      "pygments_lexer": "ipython3",
      "nbconvert_exporter": "python",
      "file_extension": ".py"
    },
    "kernelspec": {
      "name": "python3",
      "display_name": "Python 3.8.10 64-bit ('gsoc': conda)"
    },
    "interpreter": {
      "hash": "ffe3d5ab944ba437a585ad4b729297f27b48afc64247938bbfcf4d0879de5a34"
    },
    "colab": {
      "name": "optimize_wav2vec2.ipynb",
      "provenance": []
    }
  },
  "cells": [
    {
      "cell_type": "code",
      "metadata": {
        "id": "byVPDd7kJoqS",
        "outputId": "7e4cfa09-89da-4a91-a097-c96be40bf3b3",
        "colab": {
          "base_uri": "https://localhost:8080/"
        }
      },
      "source": [
        "!pip3 install -qU tf2onnx onnxruntime\n",
        "\n",
        "# TODO: update training-v2 by main after merge of training-v2\n",
        "!pip3 install -q git+https://github.com/vasudevgupta7/gsoc-wav2vec2@training-v2"
      ],
      "execution_count": 1,
      "outputs": [
        {
          "output_type": "stream",
          "text": [
            "\u001b[K     |████████████████████████████████| 398 kB 5.0 MB/s \n",
            "\u001b[K     |████████████████████████████████| 4.5 MB 51.5 MB/s \n",
            "\u001b[K     |████████████████████████████████| 12.3 MB 176 kB/s \n",
            "\u001b[K     |████████████████████████████████| 1.8 MB 5.0 MB/s \n",
            "\u001b[K     |████████████████████████████████| 43 kB 1.7 MB/s \n",
            "\u001b[K     |████████████████████████████████| 50 kB 5.4 MB/s \n",
            "\u001b[K     |████████████████████████████████| 1.7 MB 27.5 MB/s \n",
            "\u001b[K     |████████████████████████████████| 133 kB 42.0 MB/s \n",
            "\u001b[K     |████████████████████████████████| 170 kB 46.6 MB/s \n",
            "\u001b[K     |████████████████████████████████| 188 kB 61.8 MB/s \n",
            "\u001b[K     |████████████████████████████████| 63 kB 1.7 MB/s \n",
            "\u001b[?25h  Building wheel for wav2vec2 (setup.py) ... \u001b[?25l\u001b[?25hdone\n",
            "  Building wheel for python-Levenshtein (setup.py) ... \u001b[?25l\u001b[?25hdone\n",
            "  Building wheel for pathtools (setup.py) ... \u001b[?25l\u001b[?25hdone\n"
          ],
          "name": "stdout"
        }
      ]
    },
    {
      "cell_type": "code",
      "metadata": {
        "id": "JDiiDsXeJoqU"
      },
      "source": [
        "import tensorflow as tf"
      ],
      "execution_count": 2,
      "outputs": []
    },
    {
      "cell_type": "code",
      "metadata": {
        "id": "qc-aR2AqJoqV",
        "outputId": "44425be7-2be0-40cf-ce3a-640649b1d7e9",
        "colab": {
          "base_uri": "https://localhost:8080/"
        }
      },
      "source": [
        "from wav2vec2 import Wav2Vec2ForCTC\n",
        "\n",
        "model_id = \"vasudevgupta/gsoc-wav2vec2-base-960h\"\n",
        "model = Wav2Vec2ForCTC.from_pretrained(model_id)"
      ],
      "execution_count": 4,
      "outputs": [
        {
          "output_type": "stream",
          "text": [
            "Downloading model weights from https://huggingface.co/vasudevgupta/gsoc-wav2vec2-base-960h ... Done\n",
            "Total number of loaded variables: 213\n"
          ],
          "name": "stdout"
        }
      ]
    },
    {
      "cell_type": "code",
      "metadata": {
        "id": "Jv652V0uMhyj",
        "outputId": "4369fb51-bad1-4de4-c5aa-7047cccb7b99",
        "colab": {
          "base_uri": "https://localhost:8080/"
        }
      },
      "source": [
        "!wget https://www.openslr.org/resources/12/test-clean.tar.gz\n",
        "!tar -xf test-clean.tar.gz"
      ],
      "execution_count": 6,
      "outputs": [
        {
          "output_type": "stream",
          "text": [
            "--2021-08-08 00:38:28--  https://www.openslr.org/resources/12/test-clean.tar.gz\n",
            "Resolving www.openslr.org (www.openslr.org)... 46.101.158.64\n",
            "Connecting to www.openslr.org (www.openslr.org)|46.101.158.64|:443... connected.\n",
            "HTTP request sent, awaiting response... 200 OK\n",
            "Length: 346663984 (331M) [application/x-gzip]\n",
            "Saving to: ‘test-clean.tar.gz’\n",
            "\n",
            "test-clean.tar.gz   100%[===================>] 330.60M  27.1MB/s    in 14s     \n",
            "\n",
            "2021-08-08 00:38:43 (24.2 MB/s) - ‘test-clean.tar.gz’ saved [346663984/346663984]\n",
            "\n"
          ],
          "name": "stdout"
        }
      ]
    },
    {
      "cell_type": "code",
      "metadata": {
        "id": "jnN_SoNXMoDc"
      },
      "source": [
        ""
      ],
      "execution_count": null,
      "outputs": []
    },
    {
      "cell_type": "code",
      "metadata": {
        "id": "RAbyByrnJoqW"
      },
      "source": [
        "import soundfile as sf\n",
        "# speech, _ = sf.read(\"../data/SA2.wav\")\n",
        "# speech = tf.expand_dims(tf.constant(speech, dtype=tf.float32), 0)\n",
        "# speech.shape\n",
        "\n",
        "AUDIO_MAXLEN = 246000\n",
        "\n",
        "speech = tf.random.uniform(shape=(1, 246000))"
      ],
      "execution_count": 11,
      "outputs": []
    },
    {
      "cell_type": "code",
      "metadata": {
        "id": "vWGh7IbMJoqX"
      },
      "source": [
        "import tf2onnx\n",
        "ONNX_PATH = \"onnx-wav2vec2.onnx\"\n",
        "\n",
        "input_signature = (tf.TensorSpec((None, AUDIO_MAXLEN), tf.float32, name=\"speech\"),)\n",
        "_ = tf2onnx.convert.from_keras(model, input_signature=input_signature, output_path=ONNX_PATH)"
      ],
      "execution_count": 13,
      "outputs": []
    },
    {
      "cell_type": "code",
      "metadata": {
        "id": "oozTycstJoqX",
        "outputId": "c8de3a61-93b3-4116-de5d-9302d4e2f09d",
        "colab": {
          "base_uri": "https://localhost:8080/"
        }
      },
      "source": [
        "import onnxruntime as rt\n",
        "\n",
        "sess = rt.InferenceSession(ONNX_PATH)\n",
        "onnx_outputs = sess.run(None, {\"speech\": speech.numpy()})\n",
        "onnx_outputs"
      ],
      "execution_count": 14,
      "outputs": [
        {
          "output_type": "execute_result",
          "data": {
            "text/plain": [
              "[array([[[  4.952241 , -17.584637 , -17.482151 , ...,  -2.0811079,\n",
              "           -2.8112628,  -6.3643446],\n",
              "         [  4.944199 , -17.5805   , -17.47725  , ...,  -2.0816162,\n",
              "           -2.8053281,  -6.373602 ],\n",
              "         [  4.95032  , -17.57232  , -17.469223 , ...,  -2.0803037,\n",
              "           -2.7945876,  -6.3585234],\n",
              "         ...,\n",
              "         [  4.93646  , -17.574364 , -17.47243  , ...,  -2.0959978,\n",
              "           -2.8019748,  -6.3186812],\n",
              "         [  4.9474607, -17.597885 , -17.494541 , ...,  -2.0905585,\n",
              "           -2.8233068,  -6.342802 ],\n",
              "         [  4.9448576, -17.573168 , -17.470783 , ...,  -2.0908818,\n",
              "           -2.785866 ,  -6.3446217]]], dtype=float32)]"
            ]
          },
          "metadata": {
            "tags": []
          },
          "execution_count": 14
        }
      ]
    },
    {
      "cell_type": "code",
      "metadata": {
        "id": "m6Je3NISJoqY",
        "outputId": "69dd7a0f-bb03-420d-a8de-ca2d7c4a9dfa",
        "colab": {
          "base_uri": "https://localhost:8080/"
        }
      },
      "source": [
        "import time\n",
        "\n",
        "start = time.time()\n",
        "onnx_outputs = sess.run(None, {\"speech\": speech.numpy()})\n",
        "print(onnx_outputs)\n",
        "print(\"TIME TAKEN:\", time.time() - start)"
      ],
      "execution_count": 15,
      "outputs": [
        {
          "output_type": "stream",
          "text": [
            "[array([[[  4.952241 , -17.584637 , -17.482151 , ...,  -2.0811079,\n",
            "          -2.8112628,  -6.3643446],\n",
            "        [  4.944199 , -17.5805   , -17.47725  , ...,  -2.0816162,\n",
            "          -2.8053281,  -6.373602 ],\n",
            "        [  4.95032  , -17.57232  , -17.469223 , ...,  -2.0803037,\n",
            "          -2.7945876,  -6.3585234],\n",
            "        ...,\n",
            "        [  4.93646  , -17.574364 , -17.47243  , ...,  -2.0959978,\n",
            "          -2.8019748,  -6.3186812],\n",
            "        [  4.9474607, -17.597885 , -17.494541 , ...,  -2.0905585,\n",
            "          -2.8233068,  -6.342802 ],\n",
            "        [  4.9448576, -17.573168 , -17.470783 , ...,  -2.0908818,\n",
            "          -2.785866 ,  -6.3446217]]], dtype=float32)]\n",
            "TIME TAKEN: 4.563531160354614\n"
          ],
          "name": "stdout"
        }
      ]
    },
    {
      "cell_type": "code",
      "metadata": {
        "id": "JG3BfdM6JoqY",
        "outputId": "b46295ea-0f15-422b-cffc-8a88e6ac3dfb",
        "colab": {
          "base_uri": "https://localhost:8080/"
        }
      },
      "source": [
        "start = time.time()\n",
        "outputs = model(speech)\n",
        "print(outputs)\n",
        "print(\"TIME TAKEN:\", time.time() - start)"
      ],
      "execution_count": 16,
      "outputs": [
        {
          "output_type": "stream",
          "text": [
            "tf.Tensor(\n",
            "[[[  4.952262  -17.584675  -17.482185  ...  -2.0811026  -2.811307\n",
            "    -6.364362 ]\n",
            "  [  4.9442177 -17.580526  -17.47728   ...  -2.0816128  -2.805375\n",
            "    -6.37362  ]\n",
            "  [  4.9503393 -17.572357  -17.469252  ...  -2.0802975  -2.7946343\n",
            "    -6.358538 ]\n",
            "  ...\n",
            "  [  4.9364786 -17.5744    -17.472464  ...  -2.0959911  -2.8020182\n",
            "    -6.3186984]\n",
            "  [  4.947481  -17.597918  -17.49458   ...  -2.0905519  -2.8233542\n",
            "    -6.3428206]\n",
            "  [  4.944875  -17.573202  -17.470823  ...  -2.0908775  -2.785912\n",
            "    -6.3446407]]], shape=(1, 768, 32), dtype=float32)\n",
            "TIME TAKEN: 5.378181457519531\n"
          ],
          "name": "stdout"
        }
      ]
    },
    {
      "cell_type": "code",
      "metadata": {
        "id": "3oPdbuP4JoqZ"
      },
      "source": [
        "@tf.function(jit_compile=True)\n",
        "def forward(speech):\n",
        "    return model(speech)"
      ],
      "execution_count": 17,
      "outputs": []
    },
    {
      "cell_type": "code",
      "metadata": {
        "id": "wc5IgDbGJoqZ",
        "outputId": "a9f89e5f-761c-48d2-ea7d-a591a8638c53",
        "colab": {
          "base_uri": "https://localhost:8080/"
        }
      },
      "source": [
        "start = time.time()\n",
        "outputs = forward(speech)\n",
        "print(outputs)\n",
        "print(\"TIME TAKEN:\", time.time() - start)"
      ],
      "execution_count": 19,
      "outputs": [
        {
          "output_type": "stream",
          "text": [
            "tf.Tensor(\n",
            "[[[  4.9522552 -17.584661  -17.48217   ...  -2.08113    -2.811292\n",
            "    -6.364342 ]\n",
            "  [  4.9442124 -17.580513  -17.477264  ...  -2.0816388  -2.8053577\n",
            "    -6.373598 ]\n",
            "  [  4.9503317 -17.57234   -17.469234  ...  -2.0803254  -2.7946198\n",
            "    -6.3585196]\n",
            "  ...\n",
            "  [  4.936473  -17.574383  -17.472452  ...  -2.096019   -2.8020055\n",
            "    -6.3186784]\n",
            "  [  4.9474735 -17.597902  -17.494568  ...  -2.090579   -2.8233392\n",
            "    -6.342799 ]\n",
            "  [  4.9448686 -17.573189  -17.470806  ...  -2.0909042  -2.785896\n",
            "    -6.3446193]]], shape=(1, 768, 32), dtype=float32)\n",
            "TIME TAKEN: 12.117019414901733\n"
          ],
          "name": "stdout"
        }
      ]
    },
    {
      "cell_type": "code",
      "metadata": {
        "id": "8_JXB_QsJoqZ",
        "outputId": "4fe9b5be-a60d-48b1-c52a-b763ec21c0ca"
      },
      "source": [
        "import numpy as np\n",
        "np.allclose(onnx_outputs, outputs.numpy(), atol=1e-2)"
      ],
      "execution_count": null,
      "outputs": [
        {
          "output_type": "execute_result",
          "data": {
            "text/plain": [
              "True"
            ]
          },
          "metadata": {
            "tags": []
          },
          "execution_count": 49
        }
      ]
    },
    {
      "cell_type": "code",
      "metadata": {
        "id": "vGM9cCnMJoqa"
      },
      "source": [
        ""
      ],
      "execution_count": null,
      "outputs": []
    }
  ]
}