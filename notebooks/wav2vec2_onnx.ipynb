{
  "nbformat": 4,
  "nbformat_minor": 2,
  "metadata": {
    "orig_nbformat": 4,
    "language_info": {
      "name": "python",
      "version": "3.8.10",
      "mimetype": "text/x-python",
      "codemirror_mode": {
        "name": "ipython",
        "version": 3
      },
      "pygments_lexer": "ipython3",
      "nbconvert_exporter": "python",
      "file_extension": ".py"
    },
    "kernelspec": {
      "name": "python3",
      "display_name": "Python 3.8.10 64-bit ('gsoc': conda)"
    },
    "interpreter": {
      "hash": "ffe3d5ab944ba437a585ad4b729297f27b48afc64247938bbfcf4d0879de5a34"
    },
    "colab": {
      "name": "optimize_wav2vec2.ipynb",
      "provenance": []
    }
  },
  "cells": [
    {
      "cell_type": "code",
      "execution_count": null,
      "source": [
        "!pip3 install -qU tf2onnx onnxruntime\n",
        "\n",
        "# TODO: update training-v2 by main after merge of training-v2\n",
        "!pip3 install -q git+https://github.com/vasudevgupta7/gsoc-wav2vec2@training-v2"
      ],
      "outputs": [],
      "metadata": {
        "id": "byVPDd7kJoqS",
        "outputId": "7e4cfa09-89da-4a91-a097-c96be40bf3b3",
        "colab": {
          "base_uri": "https://localhost:8080/"
        }
      }
    },
    {
      "cell_type": "code",
      "execution_count": null,
      "source": [
        "import tensorflow as tf"
      ],
      "outputs": [],
      "metadata": {
        "id": "JDiiDsXeJoqU"
      }
    },
    {
      "cell_type": "code",
      "execution_count": null,
      "source": [
        "from wav2vec2 import Wav2Vec2ForCTC\n",
        "\n",
        "model_id = \"vasudevgupta/gsoc-wav2vec2-base-960h\"\n",
        "model = Wav2Vec2ForCTC.from_pretrained(model_id)"
      ],
      "outputs": [],
      "metadata": {
        "id": "qc-aR2AqJoqV",
        "outputId": "44425be7-2be0-40cf-ce3a-640649b1d7e9",
        "colab": {
          "base_uri": "https://localhost:8080/"
        }
      }
    },
    {
      "cell_type": "code",
      "execution_count": null,
      "source": [
        "!wget https://github.com/vasudevgupta7/gsoc-wav2vec2/raw/main/data/sample.wav"
      ],
      "outputs": [],
      "metadata": {}
    },
    {
      "cell_type": "code",
      "execution_count": null,
      "source": [
        "import soundfile as sf\n",
        "AUDIO_MAXLEN = 246000\n",
        "\n",
        "speech, _ = sf.read(\"sample.wav\")\n",
        "speech = tf.constant(speech, dtype=tf.float32)[None, :AUDIO_MAXLEN]"
      ],
      "outputs": [],
      "metadata": {
        "id": "RAbyByrnJoqW"
      }
    },
    {
      "cell_type": "code",
      "execution_count": null,
      "source": [
        "import tf2onnx\n",
        "ONNX_PATH = \"onnx-wav2vec2.onnx\"\n",
        "\n",
        "input_signature = (tf.TensorSpec((None, speech.shape[1]), tf.float32, name=\"speech\"),)\n",
        "_ = tf2onnx.convert.from_keras(model, input_signature=input_signature, output_path=ONNX_PATH)"
      ],
      "outputs": [],
      "metadata": {
        "id": "vWGh7IbMJoqX"
      }
    },
    {
      "cell_type": "code",
      "execution_count": null,
      "source": [
        "import onnxruntime as rt\n",
        "\n",
        "sess = rt.InferenceSession(ONNX_PATH)\n",
        "onnx_outputs = sess.run(None, {\"speech\": speech.numpy()})\n",
        "onnx_outputs"
      ],
      "outputs": [],
      "metadata": {
        "id": "oozTycstJoqX",
        "outputId": "c8de3a61-93b3-4116-de5d-9302d4e2f09d",
        "colab": {
          "base_uri": "https://localhost:8080/"
        }
      }
    },
    {
      "cell_type": "code",
      "execution_count": null,
      "source": [
        "import time\n",
        "\n",
        "start = time.time()\n",
        "onnx_outputs = sess.run(None, {\"speech\": speech.numpy()})\n",
        "print(onnx_outputs)\n",
        "print(\"TIME TAKEN:\", time.time() - start)"
      ],
      "outputs": [],
      "metadata": {
        "id": "m6Je3NISJoqY",
        "outputId": "69dd7a0f-bb03-420d-a8de-ca2d7c4a9dfa",
        "colab": {
          "base_uri": "https://localhost:8080/"
        }
      }
    },
    {
      "cell_type": "code",
      "execution_count": null,
      "source": [
        "start = time.time()\n",
        "outputs = model(speech)\n",
        "print(outputs)\n",
        "print(\"TIME TAKEN:\", time.time() - start)"
      ],
      "outputs": [],
      "metadata": {
        "id": "JG3BfdM6JoqY",
        "outputId": "b46295ea-0f15-422b-cffc-8a88e6ac3dfb",
        "colab": {
          "base_uri": "https://localhost:8080/"
        }
      }
    },
    {
      "cell_type": "code",
      "execution_count": null,
      "source": [
        "@tf.function(jit_compile=True)\n",
        "def forward(speech):\n",
        "    return model(speech)"
      ],
      "outputs": [],
      "metadata": {
        "id": "3oPdbuP4JoqZ"
      }
    },
    {
      "cell_type": "code",
      "execution_count": null,
      "source": [
        "start = time.time()\n",
        "outputs = forward(speech)\n",
        "print(outputs)\n",
        "print(\"TIME TAKEN:\", time.time() - start)"
      ],
      "outputs": [],
      "metadata": {
        "id": "wc5IgDbGJoqZ",
        "outputId": "a9f89e5f-761c-48d2-ea7d-a591a8638c53",
        "colab": {
          "base_uri": "https://localhost:8080/"
        }
      }
    },
    {
      "cell_type": "code",
      "execution_count": null,
      "source": [
        "import numpy as np\n",
        "np.allclose(onnx_outputs, outputs.numpy(), atol=1e-2)"
      ],
      "outputs": [],
      "metadata": {
        "id": "8_JXB_QsJoqZ",
        "outputId": "4fe9b5be-a60d-48b1-c52a-b763ec21c0ca"
      }
    },
    {
      "cell_type": "code",
      "execution_count": null,
      "source": [],
      "outputs": [],
      "metadata": {
        "id": "vGM9cCnMJoqa"
      }
    }
  ]
}